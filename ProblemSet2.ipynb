{
 "cells": [
  {
   "cell_type": "markdown",
   "id": "ee92c90c",
   "metadata": {},
   "source": [
    "1. Consider the following Python module: a = 0 def b(): global a a = c(a) def c(a): return a + 2 After importing the module into the interpreter, you execute: >>> b() >>> b >>> b() >>> a ? What value is displayed when the last expression (a) is evaluated? Explain your answer by indicating what happens in every executed statement."
   ]
  },
  {
   "cell_type": "code",
   "execution_count": 25,
   "id": "df3a36ec",
   "metadata": {},
   "outputs": [
    {
     "data": {
      "text/plain": [
       "6"
      ]
     },
     "execution_count": 25,
     "metadata": {},
     "output_type": "execute_result"
    }
   ],
   "source": [
    "a = 0\n",
    "\n",
    "def b(): \n",
    "    global a \n",
    "    a = c(a)\n",
    "\n",
    "def c(a):\n",
    "    return a + 2\n",
    "\n",
    "\n",
    "b()\n",
    "b()\n",
    "b()\n",
    "a\n",
    "\n",
    "#The function b() declares a global variable a, which is initialized to 0. It calls the function c(a) with a as an argument, returning a + 2, a becomes 2. The function then calls c(a) again, recognizing a as a global variable with a current value of 2, and returns a + 2, a becomes 4. Finally, the value displayed when evaluating a is 6.\n",
    "\n"
   ]
  },
  {
   "cell_type": "markdown",
   "id": "e5055507",
   "metadata": {},
   "source": [
    "2. Function fileLength(), given to you, takes the name of a file as input and returns the length of the file: >>> fileLength('midterm.py') 284 >>> fileLength('idterm.py') Traceback (most recent call last): File \"<pyshell#34>\", line 1, in  module> fileLength('idterm.py') File \"/Users/me/midterm.py\", line 3, in fileLength infile = open(filename) FileNotFoundError: [Errno 2] No such file or directory: 'idterm.py' As shown above, if the file cannot be found by the interpreter or if it cannot be read as a text file, an exception will be raised. Modify function fileLength() so that a friendly message is printed instead: >>> fileLength('midterm.py') 358 >>> fileLength('idterm.py') File idterm.py not found."
   ]
  },
  {
   "cell_type": "code",
   "execution_count": null,
   "id": "624bb193",
   "metadata": {},
   "outputs": [],
   "source": [
    "def fileLength(filename):\n",
    "    try:\n",
    "        with open(filename, 'r') as infile:\n",
    "            length = 0\n",
    "            for line in infile:\n",
    "                length += len(line)\n",
    "            return length\n",
    "    except FileNotFoundError:\n",
    "        print(f\"File {filename} not found.\")\n",
    "\n",
    "# Test the modified function\n",
    "file_length = fileLength('midterm.py')\n",
    "if file_length is not None:\n",
    "    print(file_length)\n",
    "file_length = fileLength('idterm.py')"
   ]
  },
  {
   "cell_type": "markdown",
   "id": "6e22c220",
   "metadata": {},
   "source": [
    "3. Write a class named Marsupial that can be used as shown below: >>> m = Marsupial() >>> m.put_in_pouch('doll') >>> m.put_in_pouch('firetruck') >>> m.put_in_pouch('kitten') >>> m.pouch_contents() ['doll', 'firetruck', 'kitten'] Now write a class named Kangaroo as a subclass of Marsupial that inherits all the attributes of Marsupial and also: a. extends the Marsupial __init__ constructor to take, as input, the coordinates x and y of the Kangaroo object, b. supports method jump that takes number values dx and dy as input and moves the kangaroo by dx units along the x-axis and by dy units along the y-axis, and c. overloads the __str__ operator so it behaves as shown below. >>> k = Kangaroo(0,0) >>> print(k) I am a Kangaroo located at coordinates (0,0) >>> k.put_in_pouch('doll') >>> k.put_in_pouch('firetruck') >>> k.put_in_pouch('kitten') >>> k.pouch_contents() ['doll', 'firetruck', 'kitten'] >>> k.jump(1,0) >>> k.jump(1,0) >>> k.jump(1,0) >>> print(k) I am a Kangaroo located at coordinates (3,0)"
   ]
  },
  {
   "cell_type": "code",
   "execution_count": null,
   "id": "1f3a55f8",
   "metadata": {},
   "outputs": [],
   "source": [
    "class Marsupial:\n",
    "    def _init_(self):\n",
    "        self.pouch = []\n",
    "\n",
    "    def put_in_pouch(self, item):\n",
    "        self.pouch.append(item)\n",
    "\n",
    "    def pouch_contents(self):\n",
    "        return self.pouch\n",
    "\n",
    "class Kangaroo(Marsupial):\n",
    "    def _init_(self, x, y):\n",
    "        super()._init_()\n",
    "        self.x = x\n",
    "        self.y = y\n",
    "\n",
    "    def jump(self, dx, dy):\n",
    "        self.x += dx\n",
    "        self.y += dy\n",
    "\n",
    "    def _str_(self):\n",
    "        return f\"I am Kangaroo located at ({self.x}, {self.y})\"\n",
    "\n",
    "m = Marsupial()\n",
    "m.put_in_pouch('doll')\n",
    "m.put_in_pouch('firetruck')\n",
    "m.put_in_pouch('kitten')\n",
    "\n",
    "print(m.pouch_contents())\n",
    "\n",
    "k = Kangaroo(0, 0)\n",
    "print(k)\n",
    "k.put_in_pouch('doll')\n",
    "k.put_in_pouch('firetruck')\n",
    "k.put_in_pouch('kitten')\n",
    "print(k.pouch_contents())\n",
    "\n",
    "k.jump(1, 0)\n",
    "k.jump(1, 0)\n",
    "k.jump(1, 0)\n",
    "print(k)"
   ]
  },
  {
   "cell_type": "markdown",
   "id": "dd201275",
   "metadata": {},
   "source": [
    "4. Write function collatz() that takes a positive integer x as input and prints the Collatz sequence starting at x. A Collatz sequence is obtained by repeatedly applying this rule to the previous number x in the sequence: x = { 𝑥/2 𝑖𝑓 𝑥 𝑖𝑠 𝑒𝑣𝑒𝑛3𝑥+1 𝑖𝑓 𝑥 𝑖𝑠 𝑜𝑑𝑑 Your function should stop when the sequence gets to number 1. Your implementation must be recursive, without any loops. >>> collatz(1) 1 >>> collatz(10) 10 5 16 8 4 2 1"
   ]
  },
  {
   "cell_type": "code",
   "execution_count": 7,
   "id": "8867c84e",
   "metadata": {},
   "outputs": [
    {
     "name": "stdout",
     "output_type": "stream",
     "text": [
      "1\n",
      "10\n",
      "5\n",
      "16\n",
      "8\n",
      "4\n",
      "2\n",
      "1\n"
     ]
    }
   ],
   "source": [
    "def collatz(x):\n",
    "    print(x)\n",
    "    if x == 1:\n",
    "        return\n",
    "    elif x % 2 == 0:\n",
    "        collatz(x // 2) #if x is even number\n",
    "    else:\n",
    "        collatz(3 * x + 1) #if x is odd number\n",
    "\n",
    "# Testing the function\n",
    "collatz(1)\n",
    "collatz(10)"
   ]
  },
  {
   "cell_type": "markdown",
   "id": "b69baece",
   "metadata": {},
   "source": [
    "5. Write a recursive method binary() that takes a non-negative integer n and prints the binary representation of integer n. >>> binary(0) 0 >>> binary(1) 1 >>> binary(3) 11 >>> binary(9) 1001"
   ]
  },
  {
   "cell_type": "code",
   "execution_count": 10,
   "id": "4a3e7f95",
   "metadata": {},
   "outputs": [
    {
     "name": "stdout",
     "output_type": "stream",
     "text": [
      "0\n",
      "1\n",
      "11\n",
      "1001\n"
     ]
    }
   ],
   "source": [
    "def binary(n):\n",
    "    if n == 0:\n",
    "        print(0, end='')\n",
    "    elif n == 1:\n",
    "        print(1, end='')\n",
    "    else:\n",
    "        binary(n // 2)\n",
    "        print(n % 2, end='')\n",
    "\n",
    "binary(0)\n",
    "print()  \n",
    "binary(1)\n",
    "print()  \n",
    "binary(3)\n",
    "print()  \n",
    "binary(9)\n",
    "print()  "
   ]
  },
  {
   "cell_type": "markdown",
   "id": "498850cf",
   "metadata": {},
   "source": [
    "6. Implement a class named HeadingParser that can be used to parse an HTML document, and retrieve and print all the headings in the document. You should implement your class as a subclass of HTMLParser, defined in Standard Library module html.parser. When fed a string containing HTML code, your class should print the headings, one per line and in the order in which they appear in the document. Each heading should be indented as follows: an h1 heading should have indentation 0, and h2 heading should have indentation 1, etc. Test your implementation using w3c.html. >>> infile = open('w3c.html') >>> content = infile.read() >>> infile.close() >>> hp = HeadingParser() >>> hp.feed(content) W3C Mission Principles"
   ]
  },
  {
   "cell_type": "code",
   "execution_count": null,
   "id": "f8c1e6f5",
   "metadata": {},
   "outputs": [],
   "source": [
    "# Question 6\n",
    "\n",
    "from html.parser import HTMLParser\n",
    "\n",
    "class HeadingParser(HTMLParser):\n",
    "    def _init_(self):\n",
    "        super()._init_()\n",
    "        self.inHeading = False\n",
    "        self.count = -1\n",
    "\n",
    "    def handle_starttag(self, tag, attrs):\n",
    "        if tag in (\"h1\", \"h2\", \"h3\", \"h4\", \"h5\", \"h6\"):\n",
    "            self.inHeading = True\n",
    "            self.count += 1\n",
    "\n",
    "    def handle_data(self, data):\n",
    "        if self.inHeading:\n",
    "            if data.strip():\n",
    "                print(\" \" * self.count + data.strip())\n",
    "\n",
    "    def handle_endtag(self, tag):\n",
    "        if tag in (\"h1\", \"h2\", \"h3\", \"h4\", \"h5\", \"h6\"):\n",
    "            self.inHeading = False\n",
    "\n",
    "with open('w3c.html') as infile:\n",
    "    content = infile.read()\n",
    "\n",
    "hp = HeadingParser()\n",
    "hp.feed(content)"
   ]
  },
  {
   "cell_type": "markdown",
   "id": "1a0cf631",
   "metadata": {},
   "source": [
    "7. Implement recursive function webdir() that takes as input: a URL (as a string) and non-negative integers depth and indent. Your function should visit every web page reachable from the starting URL web page in depth clicks or less, and print each web page's URL. As shown below, indentation, specified by indent, should be used to indicate the depth of a URL. >>> webdir('http://reed.cs.depaul.edu/lperkovic/csc242/test1.html', 2, 0) http://reed.cs.depaul.edu/lperkovic/csc242/test1.html http://reed.cs.depaul.edu/lperkovic/csc242/test2.html http://reed.cs.depaul.edu/lperkovic/csc242/test4.html http://reed.cs.depaul.edu/lperkovic/csc242/test3.html http://reed.cs.depaul.edu/lperkovic/csc242/test4.html"
   ]
  },
  {
   "cell_type": "code",
   "execution_count": 20,
   "id": "bff919dc",
   "metadata": {},
   "outputs": [
    {
     "name": "stdout",
     "output_type": "stream",
     "text": [
      "http://reed.cs.depaul.edu/lperkovic/csc242/test1.html\n"
     ]
    }
   ],
   "source": [
    "import requests\n",
    "from bs4 import BeautifulSoup\n",
    "\n",
    "def webdir(url, depth, indent=0):\n",
    "    if depth < 0:\n",
    "        return\n",
    "    \n",
    "    try:\n",
    "        response = requests.get(url)\n",
    "        soup = BeautifulSoup(response.text, 'html.parser')\n",
    "        \n",
    "        print(' ' * indent + url)\n",
    "        \n",
    "        if depth > 0:\n",
    "            for link in soup.find_all('a', href=True):\n",
    "                new_url = link['href']\n",
    "                if not new_url.startswith('http'):\n",
    "                    new_url = url + new_url\n",
    "                webdir(new_url, depth - 1, indent + 1)\n",
    "    except Exception as e:\n",
    "        print(' ' * indent + f\"Error: {e} ({url})\")\n",
    "\n",
    "webdir('http://reed.cs.depaul.edu/lperkovic/csc242/test1.html', 2, 0)"
   ]
  },
  {
   "cell_type": "markdown",
   "id": "743ec58d",
   "metadata": {},
   "source": [
    "8. Write SQL queries on the below database table that return: a) All the temperature data. b) All the cities, but without repetition. c) All the records for India. d) All the Fall records. e) The city, country, and season for which the average rainfall is between 200 and 400 millimeters. f) The city and country for which the average Fall temperature is above 20 degrees, in increasing temperature order. g) The total annual rainfall for Cairo. h) The total rainfall for each season."
   ]
  },
  {
   "cell_type": "code",
   "execution_count": null,
   "id": "27d56fa2",
   "metadata": {},
   "outputs": [],
   "source": [
    "a) All the temperature data.\n",
    "SELECT Temperature FROM table\n",
    "\n",
    "b) All the cities, but without repetition.\n",
    "SELECT DITINCT City FROM table\n",
    "\n",
    "c) All the records for India.\n",
    "SELECT * FROM table WHERE Country = 'India'\n",
    "\n",
    "d) All the Fall records.\n",
    "SELECT * FROM table WHERE Season= 'Fall'\n",
    "\n",
    "e) The city, country, and season for which the average rainfall is between 200and 400 millimeters.\n",
    "SELECT City, Country, Season FROM table GROUP BY City, Country, Season HAVING AVG(rainfall) BETWEEN 200 AND 400\n",
    "\n",
    "f) The city and country for which the average Fall temperature is above 20degrees, in increasing temperature order.\n",
    "SELECT City, Country FROM table WHERE Season='Fall' GROUP BY City, Country HAVING AVG(Temperature)>20 ORDER BY\n",
    "AVG(Temperature) ASC\n",
    "\n",
    "g) The total annual rainfall for Cairo.\n",
    "SELECT SUM(Rainfall) AS Total_Rainfall FROM table WHERE City='Cairo'\n",
    "\n",
    "h) The total rainfall for each season\n",
    "SELECT Season, SUM(Rainfall) AS Total_Rainfall FROM table GROUP BY Season"
   ]
  },
  {
   "cell_type": "markdown",
   "id": "097e8aac",
   "metadata": {},
   "source": [
    "9. Suppose list words is defined as follows: >>> words = ['The', 'quick', 'brown', 'fox', 'jumps', 'over', 'the', 'lazy', 'dog'] Write list comprehension expressions that use list words and generate the following lists: a) ['THE', 'QUICK', 'BROWN', 'FOX', 'JUMPS', 'OVER', 'THE', 'LAZY', 'DOG'] b) ['the', 'quick', 'brown', 'fox', 'jumps', 'over', 'the', 'lazy', 'dog'] c) [3, 5, 5, 3, 5, 4, 3, 4, 3] (the list of lengths of words in list words). d) [['THE', 'the', 3], ['QUICK', 'quick', 5], ['BROWN', 'brown', 5], ['FOX', 'fox', 3], ['JUMPS', 'jumps', 5], ['OVER', 'over', 4], ['THE', 'the', 3], ['LAZY', 'lazy', 4], ['DOG', 'dog', 3]] (the list containing a list for every word of list words, where each list contains the word in uppercase and lowercase and the length of the word.) e) ['The', 'quick', 'brown', 'fox', 'jumps', 'over', 'the', 'lazy', 'dog'] (the list of words in list words containing 4 or more characters.)"
   ]
  },
  {
   "cell_type": "code",
   "execution_count": 8,
   "id": "7e021548",
   "metadata": {},
   "outputs": [
    {
     "name": "stdout",
     "output_type": "stream",
     "text": [
      "Uppercase letters: ['THE', 'QUICK', 'BROWN', 'FOX', 'JUMPS', 'OVER', 'THE', 'LAZY', 'DOG']\n",
      "Lowercase letters: ['the', 'quick', 'brown', 'fox', 'jumps', 'over', 'the', 'lazy', 'dog']\n",
      "Lenght of words: [3, 5, 5, 3, 5, 4, 3, 4, 3]\n",
      "Word info: [['THE', 'the', 3], ['QUICK', 'quick', 5], ['BROWN', 'brown', 5], ['FOX', 'fox', 3], ['JUMPS', 'jumps', 5], ['OVER', 'over', 4], ['THE', 'the', 3], ['LAZY', 'lazy', 4], ['DOG', 'dog', 3]]\n",
      "Long words: ['The', 'quick', 'brown', 'fox', 'jumps', 'over', 'the', 'lazy', 'dog']\n"
     ]
    }
   ],
   "source": [
    "words = ['The', 'quick', 'brown', 'fox', 'jumps', 'over', 'the', 'lazy', 'dog']\n",
    "\n",
    "# a) Capital letters\n",
    "uppercase = [word.upper() for word in words]\n",
    "\n",
    "# b) Small letters\n",
    "lowercase = [word.lower() for word in words]\n",
    "\n",
    "# c) Length of words\n",
    "length = [len(word) for word in words]\n",
    "\n",
    "# d) List of lists\n",
    "lists = [[word.upper(), word.lower(), len(word)] for word in words]\n",
    "\n",
    "# e) Words with 4 or more characters\n",
    "long_word = [word for word in words if len(word) >= 3]\n",
    "\n",
    "print(\"Uppercase letters:\", uppercase)\n",
    "print(\"Lowercase letters:\", lowercase)\n",
    "print(\"Lenght of words:\", length)\n",
    "print(\"Word info:\", lists)\n",
    "print(\"Long words:\", long_word)"
   ]
  },
  {
   "cell_type": "code",
   "execution_count": null,
   "id": "eb240b0b",
   "metadata": {},
   "outputs": [],
   "source": []
  }
 ],
 "metadata": {
  "kernelspec": {
   "display_name": "Python 3 (ipykernel)",
   "language": "python",
   "name": "python3"
  },
  "language_info": {
   "codemirror_mode": {
    "name": "ipython",
    "version": 3
   },
   "file_extension": ".py",
   "mimetype": "text/x-python",
   "name": "python",
   "nbconvert_exporter": "python",
   "pygments_lexer": "ipython3",
   "version": "3.11.5"
  }
 },
 "nbformat": 4,
 "nbformat_minor": 5
}
